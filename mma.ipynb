{
 "cells": [
  {
   "cell_type": "code",
   "execution_count": 31,
   "metadata": {},
   "outputs": [],
   "source": [
    "# MMA Fight Network Dashboard (Voilà-ready)\n",
    "\n",
    "import pandas as pd\n",
    "import networkx as nx\n",
    "from ipysigma import Sigma\n",
    "import kagglehub\n",
    "from kagglehub import KaggleDatasetAdapter\n",
    "import ipywidgets as widgets\n",
    "from IPython.display import display, clear_output, Markdown"
   ]
  },
  {
   "cell_type": "markdown",
   "metadata": {},
   "source": []
  },
  {
   "cell_type": "code",
   "execution_count": 32,
   "metadata": {},
   "outputs": [
    {
     "name": "stderr",
     "output_type": "stream",
     "text": [
      "/var/folders/st/yx5_mdvj4bdbm59sg4_7n26m0000gq/T/ipykernel_1100/131653210.py:3: DeprecationWarning: load_dataset is deprecated and will be removed in future version.\n",
      "  df = kagglehub.load_dataset(\n"
     ]
    }
   ],
   "source": [
    "# Load dataset from Kaggle\n",
    "file_path = \"pro_mma_fights.csv\"\n",
    "df = kagglehub.load_dataset(\n",
    "    KaggleDatasetAdapter.PANDAS,\n",
    "    \"binduvr/pro-mma-fights\",\n",
    "    file_path,\n",
    ")"
   ]
  },
  {
   "cell_type": "code",
   "execution_count": 33,
   "metadata": {},
   "outputs": [],
   "source": [
    "# Clean the data\n",
    "def clean_data(df):\n",
    "    for col in [\"fighter1_name\", \"fighter2_name\"]:\n",
    "        df[col] = df[col].str.strip().str.title()\n",
    "    df[\"date\"] = pd.to_datetime(df[\"date\"], errors=\"coerce\")\n",
    "    df[\"fight_id\"] = (\n",
    "        df[\"fighter1_name\"] + \"_vs_\" + df[\"fighter2_name\"] + \"_\" + df[\"date\"].dt.strftime('%Y-%m-%d')\n",
    "    ).fillna(\"unknown\")\n",
    "    return df\n",
    "\n",
    "df = clean_data(df)"
   ]
  },
  {
   "cell_type": "code",
   "execution_count": 34,
   "metadata": {},
   "outputs": [],
   "source": [
    "# Optional filter to just UFC\n",
    "df = df[df['organisation'] == \"Ultimate Fighting Championship (UFC)\"]"
   ]
  },
  {
   "cell_type": "code",
   "execution_count": 35,
   "metadata": {},
   "outputs": [],
   "source": [
    "# Build the graph\n",
    "def build_graph(filtered_df):\n",
    "    G = nx.Graph()\n",
    "    for _, row in filtered_df.iterrows():\n",
    "        f1 = row[\"fighter1_name\"]\n",
    "        f2 = row[\"fighter2_name\"]\n",
    "        result = row[\"fighter1_result\"]\n",
    "        method = row[\"win_method\"]\n",
    "        G.add_node(f1)\n",
    "        G.add_node(f2)\n",
    "        G.add_edge(f1, f2,\n",
    "                   result=result,\n",
    "                   method=method,\n",
    "                   date=row[\"date\"].strftime('%Y-%m-%d'),\n",
    "                   event=row[\"event_title\"])\n",
    "    return G\n"
   ]
  },
  {
   "cell_type": "code",
   "execution_count": 36,
   "metadata": {},
   "outputs": [],
   "source": [
    "# Widget: Select year\n",
    "min_year = df[\"date\"].dt.year.min()\n",
    "max_year = df[\"date\"].dt.year.max()\n",
    "year_selector = widgets.IntSlider(\n",
    "    value=max_year,\n",
    "    min=min_year,\n",
    "    max=max_year,\n",
    "    step=1,\n",
    "    description='Year:',\n",
    "    continuous_update=False\n",
    ")\n",
    "\n",
    "output = widgets.Output()\n"
   ]
  },
  {
   "cell_type": "code",
   "execution_count": null,
   "metadata": {},
   "outputs": [],
   "source": [
    "# Update function with centrality summary\n",
    "def update_graph(year):\n",
    "    output.clear_output()\n",
    "    with output:\n",
    "        filtered_df = df[df['date'].dt.year >= year]\n",
    "        G = build_graph(filtered_df)\n",
    "        G = G.subgraph([n for n in G.nodes if G.degree[n] >= 2]).copy()\n",
    "\n",
    "        # Compute centrality scores\n",
    "        degree = nx.degree_centrality(G)\n",
    "        betweenness = nx.betweenness_centrality(G)\n",
    "        eigenvector = nx.eigenvector_centrality(G, max_iter=500)\n",
    "\n",
    "        # Find top nodes\n",
    "        top_degree = sorted(degree.items(), key=lambda x: x[1], reverse=True)[:5]\n",
    "        top_betweenness = sorted(betweenness.items(), key=lambda x: x[1], reverse=True)[:5]\n",
    "        top_eigen = sorted(eigenvector.items(), key=lambda x: x[1], reverse=True)[:5]\n",
    "\n",
    "        # Display summary in Markdown\n",
    "        display(Markdown(\"### Top 5 Fighters by Degree Centrality\"))\n",
    "        for name, score in top_degree:\n",
    "            display(Markdown(f\"- {name}: {score:.4f}\"))\n",
    "\n",
    "        display(Markdown(\"### Top 5 Fighters by Betweenness Centrality\"))\n",
    "        for name, score in top_betweenness:\n",
    "            display(Markdown(f\"- {name}: {score:.4f}\"))\n",
    "\n",
    "        display(Markdown(\"### Top 5 Fighters by Eigenvector Centrality\"))\n",
    "        for name, score in top_eigen:\n",
    "            display(Markdown(f\"- {name}: {score:.4f}\"))\n",
    "\n",
    "        print(f\"Fighters: {G.number_of_nodes()}, Fights: {G.number_of_edges()}\")\n",
    "        node_color = {node: G.degree[node] for node in G.nodes}\n",
    "        node_size = degree\n",
    "        display(Sigma(G, node_color=node_color, node_size=node_size))"
   ]
  },
  {
   "cell_type": "code",
   "execution_count": 41,
   "metadata": {},
   "outputs": [
    {
     "data": {
      "application/vnd.jupyter.widget-view+json": {
       "model_id": "5bbd9d3446814a8e84f6d1ee5b76ac09",
       "version_major": 2,
       "version_minor": 0
      },
      "text/plain": [
       "interactive(children=(IntSlider(value=1993, continuous_update=False, description='Year:', max=2021, min=1993),…"
      ]
     },
     "metadata": {},
     "output_type": "display_data"
    },
    {
     "data": {
      "application/vnd.jupyter.widget-view+json": {
       "model_id": "e1299ab936424523b633bbcbaa3b657b",
       "version_major": 2,
       "version_minor": 0
      },
      "text/plain": [
       "Output(outputs=({'traceback': ['\\x1b[0;31m--------------------------------------------------------------------…"
      ]
     },
     "metadata": {},
     "output_type": "display_data"
    }
   ],
   "source": [
    "# Link the widget to the update function\n",
    "widgets.interact(update_graph, year=year_selector)\n",
    "display(output)"
   ]
  }
 ],
 "metadata": {
  "kernelspec": {
   "display_name": "base",
   "language": "python",
   "name": "python3"
  },
  "language_info": {
   "codemirror_mode": {
    "name": "ipython",
    "version": 3
   },
   "file_extension": ".py",
   "mimetype": "text/x-python",
   "name": "python",
   "nbconvert_exporter": "python",
   "pygments_lexer": "ipython3",
   "version": "3.11.5"
  }
 },
 "nbformat": 4,
 "nbformat_minor": 2
}
