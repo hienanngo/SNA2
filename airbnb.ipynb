{
 "cells": [
  {
   "cell_type": "code",
   "execution_count": 46,
   "metadata": {},
   "outputs": [],
   "source": [
    "# 📦 IMPORTS\n",
    "import pandas as pd\n",
    "import networkx as nx\n",
    "from networkx.algorithms import bipartite\n",
    "from ipysigma import Sigma\n",
    "import kagglehub\n",
    "from kagglehub import KaggleDatasetAdapter\n",
    "import ipywidgets as widgets\n",
    "from IPython.display import display\n"
   ]
  },
  {
   "cell_type": "code",
   "execution_count": 47,
   "metadata": {},
   "outputs": [
    {
     "name": "stderr",
     "output_type": "stream",
     "text": [
      "/var/folders/st/yx5_mdvj4bdbm59sg4_7n26m0000gq/T/ipykernel_36806/1727377947.py:2: DeprecationWarning: load_dataset is deprecated and will be removed in future version.\n",
      "  df = kagglehub.load_dataset(\n"
     ]
    }
   ],
   "source": [
    "# 📥 LOAD DATA\n",
    "df = kagglehub.load_dataset(\n",
    "    KaggleDatasetAdapter.PANDAS,\n",
    "    \"hinanng/washington-d-c-airbnb-reviews\",\n",
    "    \"reviews (3).csv\"\n",
    ")\n",
    "df[\"reviewer_id\"] = df[\"reviewer_id\"].astype(str)\n",
    "df[\"listing_id\"] = df[\"listing_id\"].astype(str)\n",
    "df[\"date\"] = pd.to_datetime(df[\"date\"])\n",
    "df = df[df[\"date\"] >= \"2022-01-01\"]"
   ]
  },
  {
   "cell_type": "code",
   "execution_count": 77,
   "metadata": {},
   "outputs": [
    {
     "data": {
      "application/vnd.jupyter.widget-view+json": {
       "model_id": "85f2655b469549098cbdaf7f9e9f086f",
       "version_major": 2,
       "version_minor": 0
      },
      "text/plain": [
       "IntSlider(value=3, description='Min Reviews', max=10, min=1)"
      ]
     },
     "metadata": {},
     "output_type": "display_data"
    },
    {
     "data": {
      "application/vnd.jupyter.widget-view+json": {
       "model_id": "dbaf99692cf543b7b2cd722fa272cab4",
       "version_major": 2,
       "version_minor": 0
      },
      "text/plain": [
       "IntSlider(value=100, description='Max Reviewers', max=10000, min=10)"
      ]
     },
     "metadata": {},
     "output_type": "display_data"
    },
    {
     "data": {
      "application/vnd.jupyter.widget-view+json": {
       "model_id": "f6b405f397934c46b49415c2821edb5a",
       "version_major": 2,
       "version_minor": 0
      },
      "text/plain": [
       "IntSlider(value=50, description='Max Listings', max=1000, min=10)"
      ]
     },
     "metadata": {},
     "output_type": "display_data"
    }
   ],
   "source": [
    "# 🖛 SLIDERS FOR FILTERING\n",
    "min_reviews_slider = widgets.IntSlider(value=3, min=1, max=10, description=\"Min Reviews\")\n",
    "max_reviewers_slider = widgets.IntSlider(value=100, min=10, max=10000, description=\"Max Reviewers\")\n",
    "max_listings_slider = widgets.IntSlider(value=50, min=10, max=1000, description=\"Max Listings\")\n",
    "\n",
    "display(min_reviews_slider, max_reviewers_slider, max_listings_slider)\n"
   ]
  },
  {
   "cell_type": "code",
   "execution_count": 85,
   "metadata": {},
   "outputs": [],
   "source": [
    "# 🧹 APPLY FILTERS\n",
    "min_reviews = min_reviews_slider.value\n",
    "max_reviewers = max_reviewers_slider.value\n",
    "max_listings = max_listings_slider.value"
   ]
  },
  {
   "cell_type": "code",
   "execution_count": 86,
   "metadata": {},
   "outputs": [],
   "source": [
    "# Filter guests independently\n",
    "guest_counts = df.groupby(\"reviewer_id\")[\"listing_id\"].nunique()\n",
    "top_guests = guest_counts[guest_counts >= min_reviews].sort_values(ascending=False).head(max_reviewers).index\n"
   ]
  },
  {
   "cell_type": "code",
   "execution_count": 87,
   "metadata": {},
   "outputs": [],
   "source": [
    "# Filter listings independently\n",
    "listing_counts = df.groupby(\"listing_id\")[\"reviewer_id\"].nunique()\n",
    "top_listings = listing_counts[listing_counts >= min_reviews].sort_values(ascending=False).head(max_listings).index\n"
   ]
  },
  {
   "cell_type": "code",
   "execution_count": 88,
   "metadata": {},
   "outputs": [],
   "source": [
    "# Now filter the dataframe where reviewer OR listing is in our top sets\n",
    "df_filtered = df[(df[\"reviewer_id\"].isin(top_guests)) & (df[\"listing_id\"].isin(top_listings))]"
   ]
  },
  {
   "cell_type": "code",
   "execution_count": 89,
   "metadata": {},
   "outputs": [],
   "source": [
    "# 🧱 BUILD BIPARTITE GRAPH\n",
    "B = nx.Graph()\n",
    "B.add_nodes_from(df_filtered[\"reviewer_id\"], bipartite=0)\n",
    "B.add_nodes_from(df_filtered[\"listing_id\"], bipartite=1)\n",
    "B.add_edges_from(zip(df_filtered[\"reviewer_id\"], df_filtered[\"listing_id\"]))"
   ]
  },
  {
   "cell_type": "code",
   "execution_count": 90,
   "metadata": {},
   "outputs": [],
   "source": [
    "# 🎨 NODE ATTRIBUTES\n",
    "guest_nodes = [n for n, d in B.nodes(data=True) if d.get(\"bipartite\") == 0]\n",
    "listing_nodes = [n for n, d in B.nodes(data=True) if d.get(\"bipartite\") == 1]\n",
    "\n",
    "for i, n in enumerate(guest_nodes):\n",
    "    B.nodes[n][\"x\"] = -1\n",
    "    B.nodes[n][\"y\"] = i\n",
    "    B.nodes[n][\"color\"] = \"green\"\n",
    "    B.nodes[n][\"size\"] = B.degree[n] * 2\n",
    "    B.nodes[n][\"title\"] = f\"Guest | Reviews: {B.degree[n]}\"\n",
    "\n",
    "for i, n in enumerate(listing_nodes):\n",
    "    B.nodes[n][\"x\"] = 1\n",
    "    B.nodes[n][\"y\"] = i\n",
    "    B.nodes[n][\"color\"] = \"blue\"\n",
    "    B.nodes[n][\"size\"] = B.degree[n] * 2\n",
    "    B.nodes[n][\"title\"] = f\"Listing | Reviews received: {B.degree[n]}\"\n"
   ]
  },
  {
   "cell_type": "code",
   "execution_count": 91,
   "metadata": {},
   "outputs": [
    {
     "data": {
      "application/vnd.jupyter.widget-view+json": {
       "model_id": "ecb024fd51df407da55327c0ff4a0b6a",
       "version_major": 2,
       "version_minor": 0
      },
      "text/plain": [
       "Sigma(nx.Graph with 1,887 nodes and 3,202 edges)"
      ]
     },
     "execution_count": 91,
     "metadata": {},
     "output_type": "execute_result"
    }
   ],
   "source": [
    "# 📈 INTERACTIVE NETWORK\n",
    "Sigma(\n",
    "    B,\n",
    "    node_color=\"color\",\n",
    "    node_size=\"size\",\n",
    "    hide_edges_on_move=True\n",
    ")\n"
   ]
  }
 ],
 "metadata": {
  "kernelspec": {
   "display_name": "base",
   "language": "python",
   "name": "python3"
  },
  "language_info": {
   "codemirror_mode": {
    "name": "ipython",
    "version": 3
   },
   "file_extension": ".py",
   "mimetype": "text/x-python",
   "name": "python",
   "nbconvert_exporter": "python",
   "pygments_lexer": "ipython3",
   "version": "3.11.5"
  }
 },
 "nbformat": 4,
 "nbformat_minor": 2
}
